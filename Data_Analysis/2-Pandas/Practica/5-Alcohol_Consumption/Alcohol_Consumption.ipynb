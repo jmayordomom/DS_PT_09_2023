{
 "cells": [
  {
   "cell_type": "markdown",
   "metadata": {},
   "source": [
    "# Ex - GroupBy"
   ]
  },
  {
   "cell_type": "markdown",
   "metadata": {},
   "source": [
    "### Paso 1. Importar librerias"
   ]
  },
  {
   "cell_type": "code",
   "execution_count": 3,
   "metadata": {},
   "outputs": [],
   "source": [
    "import pandas as pd"
   ]
  },
  {
   "cell_type": "markdown",
   "metadata": {},
   "source": [
    "### Paso 2. Importar el conjunto de datos de esta [dirección](https://raw.githubusercontent.com/justmarkham/DAT8/master/data/drinks.csv). "
   ]
  },
  {
   "cell_type": "code",
   "execution_count": 2,
   "metadata": {},
   "outputs": [],
   "source": [
    "url = \"https://raw.githubusercontent.com/justmarkham/DAT8/master/data/drinks.csv\""
   ]
  },
  {
   "cell_type": "markdown",
   "metadata": {},
   "source": [
    "### Paso 3. Asígnalo a una variable llamada bebidas."
   ]
  },
  {
   "cell_type": "code",
   "execution_count": 5,
   "metadata": {},
   "outputs": [
    {
     "data": {
      "text/html": [
       "<div>\n",
       "<style scoped>\n",
       "    .dataframe tbody tr th:only-of-type {\n",
       "        vertical-align: middle;\n",
       "    }\n",
       "\n",
       "    .dataframe tbody tr th {\n",
       "        vertical-align: top;\n",
       "    }\n",
       "\n",
       "    .dataframe thead th {\n",
       "        text-align: right;\n",
       "    }\n",
       "</style>\n",
       "<table border=\"1\" class=\"dataframe\">\n",
       "  <thead>\n",
       "    <tr style=\"text-align: right;\">\n",
       "      <th></th>\n",
       "      <th>country</th>\n",
       "      <th>beer_servings</th>\n",
       "      <th>spirit_servings</th>\n",
       "      <th>wine_servings</th>\n",
       "      <th>total_litres_of_pure_alcohol</th>\n",
       "      <th>continent</th>\n",
       "    </tr>\n",
       "  </thead>\n",
       "  <tbody>\n",
       "    <tr>\n",
       "      <th>0</th>\n",
       "      <td>Afghanistan</td>\n",
       "      <td>0</td>\n",
       "      <td>0</td>\n",
       "      <td>0</td>\n",
       "      <td>0.0</td>\n",
       "      <td>AS</td>\n",
       "    </tr>\n",
       "    <tr>\n",
       "      <th>1</th>\n",
       "      <td>Albania</td>\n",
       "      <td>89</td>\n",
       "      <td>132</td>\n",
       "      <td>54</td>\n",
       "      <td>4.9</td>\n",
       "      <td>EU</td>\n",
       "    </tr>\n",
       "    <tr>\n",
       "      <th>2</th>\n",
       "      <td>Algeria</td>\n",
       "      <td>25</td>\n",
       "      <td>0</td>\n",
       "      <td>14</td>\n",
       "      <td>0.7</td>\n",
       "      <td>AF</td>\n",
       "    </tr>\n",
       "    <tr>\n",
       "      <th>3</th>\n",
       "      <td>Andorra</td>\n",
       "      <td>245</td>\n",
       "      <td>138</td>\n",
       "      <td>312</td>\n",
       "      <td>12.4</td>\n",
       "      <td>EU</td>\n",
       "    </tr>\n",
       "    <tr>\n",
       "      <th>4</th>\n",
       "      <td>Angola</td>\n",
       "      <td>217</td>\n",
       "      <td>57</td>\n",
       "      <td>45</td>\n",
       "      <td>5.9</td>\n",
       "      <td>AF</td>\n",
       "    </tr>\n",
       "    <tr>\n",
       "      <th>...</th>\n",
       "      <td>...</td>\n",
       "      <td>...</td>\n",
       "      <td>...</td>\n",
       "      <td>...</td>\n",
       "      <td>...</td>\n",
       "      <td>...</td>\n",
       "    </tr>\n",
       "    <tr>\n",
       "      <th>188</th>\n",
       "      <td>Venezuela</td>\n",
       "      <td>333</td>\n",
       "      <td>100</td>\n",
       "      <td>3</td>\n",
       "      <td>7.7</td>\n",
       "      <td>SA</td>\n",
       "    </tr>\n",
       "    <tr>\n",
       "      <th>189</th>\n",
       "      <td>Vietnam</td>\n",
       "      <td>111</td>\n",
       "      <td>2</td>\n",
       "      <td>1</td>\n",
       "      <td>2.0</td>\n",
       "      <td>AS</td>\n",
       "    </tr>\n",
       "    <tr>\n",
       "      <th>190</th>\n",
       "      <td>Yemen</td>\n",
       "      <td>6</td>\n",
       "      <td>0</td>\n",
       "      <td>0</td>\n",
       "      <td>0.1</td>\n",
       "      <td>AS</td>\n",
       "    </tr>\n",
       "    <tr>\n",
       "      <th>191</th>\n",
       "      <td>Zambia</td>\n",
       "      <td>32</td>\n",
       "      <td>19</td>\n",
       "      <td>4</td>\n",
       "      <td>2.5</td>\n",
       "      <td>AF</td>\n",
       "    </tr>\n",
       "    <tr>\n",
       "      <th>192</th>\n",
       "      <td>Zimbabwe</td>\n",
       "      <td>64</td>\n",
       "      <td>18</td>\n",
       "      <td>4</td>\n",
       "      <td>4.7</td>\n",
       "      <td>AF</td>\n",
       "    </tr>\n",
       "  </tbody>\n",
       "</table>\n",
       "<p>193 rows × 6 columns</p>\n",
       "</div>"
      ],
      "text/plain": [
       "         country  beer_servings  spirit_servings  wine_servings  \\\n",
       "0    Afghanistan              0                0              0   \n",
       "1        Albania             89              132             54   \n",
       "2        Algeria             25                0             14   \n",
       "3        Andorra            245              138            312   \n",
       "4         Angola            217               57             45   \n",
       "..           ...            ...              ...            ...   \n",
       "188    Venezuela            333              100              3   \n",
       "189      Vietnam            111                2              1   \n",
       "190        Yemen              6                0              0   \n",
       "191       Zambia             32               19              4   \n",
       "192     Zimbabwe             64               18              4   \n",
       "\n",
       "     total_litres_of_pure_alcohol continent  \n",
       "0                             0.0        AS  \n",
       "1                             4.9        EU  \n",
       "2                             0.7        AF  \n",
       "3                            12.4        EU  \n",
       "4                             5.9        AF  \n",
       "..                            ...       ...  \n",
       "188                           7.7        SA  \n",
       "189                           2.0        AS  \n",
       "190                           0.1        AS  \n",
       "191                           2.5        AF  \n",
       "192                           4.7        AF  \n",
       "\n",
       "[193 rows x 6 columns]"
      ]
     },
     "execution_count": 5,
     "metadata": {},
     "output_type": "execute_result"
    }
   ],
   "source": [
    "bebidas = pd.read_csv(url)\n",
    "bebidas"
   ]
  },
  {
   "cell_type": "markdown",
   "metadata": {},
   "source": [
    "### Paso 4. ¿Qué continente bebe más cerveza por término medio?"
   ]
  },
  {
   "cell_type": "code",
   "execution_count": 45,
   "metadata": {},
   "outputs": [],
   "source": [
    "sumCerveza = bebidas.groupby(by=\"continent\").sum(\"beer_servings\")\n",
    "maxCerveza = bebidas.groupby(by=\"continent\").sum(\"beer_servings\")[\"beer_servings\"].max()"
   ]
  },
  {
   "cell_type": "code",
   "execution_count": 47,
   "metadata": {},
   "outputs": [
    {
     "data": {
      "text/plain": [
       "'EU'"
      ]
     },
     "execution_count": 47,
     "metadata": {},
     "output_type": "execute_result"
    }
   ],
   "source": [
    "sumCerveza[sumCerveza[\"beer_servings\"] == maxCerveza].index[0]"
   ]
  },
  {
   "cell_type": "markdown",
   "metadata": {},
   "source": [
    "### Paso 5. Para cada continente, imprima las estadísticas de consumo de vino."
   ]
  },
  {
   "cell_type": "code",
   "execution_count": 65,
   "metadata": {},
   "outputs": [
    {
     "name": "stdout",
     "output_type": "stream",
     "text": [
      "Estadisticas de consumo de vino para  AS\n",
      "count     44.000000\n",
      "mean       9.068182\n",
      "std       21.667034\n",
      "min        0.000000\n",
      "25%        0.000000\n",
      "50%        1.000000\n",
      "75%        8.000000\n",
      "max      123.000000\n",
      "Name: wine_servings, dtype: float64\n",
      "\n",
      "Estadisticas de consumo de vino para  EU\n",
      "count     45.000000\n",
      "mean     142.222222\n",
      "std       97.421738\n",
      "min        0.000000\n",
      "25%       59.000000\n",
      "50%      128.000000\n",
      "75%      195.000000\n",
      "max      370.000000\n",
      "Name: wine_servings, dtype: float64\n",
      "\n",
      "Estadisticas de consumo de vino para  AF\n",
      "count     53.000000\n",
      "mean      16.264151\n",
      "std       38.846419\n",
      "min        0.000000\n",
      "25%        1.000000\n",
      "50%        2.000000\n",
      "75%       13.000000\n",
      "max      233.000000\n",
      "Name: wine_servings, dtype: float64\n",
      "\n",
      "Estadisticas de consumo de vino para  nan\n",
      "count    0.0\n",
      "mean     NaN\n",
      "std      NaN\n",
      "min      NaN\n",
      "25%      NaN\n",
      "50%      NaN\n",
      "75%      NaN\n",
      "max      NaN\n",
      "Name: wine_servings, dtype: float64\n",
      "\n",
      "Estadisticas de consumo de vino para  SA\n",
      "count     12.000000\n",
      "mean      62.416667\n",
      "std       88.620189\n",
      "min        1.000000\n",
      "25%        3.000000\n",
      "50%       12.000000\n",
      "75%       98.500000\n",
      "max      221.000000\n",
      "Name: wine_servings, dtype: float64\n",
      "\n",
      "Estadisticas de consumo de vino para  OC\n",
      "count     16.00000\n",
      "mean      35.62500\n",
      "std       64.55579\n",
      "min        0.00000\n",
      "25%        1.00000\n",
      "50%        8.50000\n",
      "75%       23.25000\n",
      "max      212.00000\n",
      "Name: wine_servings, dtype: float64\n",
      "\n"
     ]
    }
   ],
   "source": [
    "continentes = bebidas[\"continent\"].unique()\n",
    "\n",
    "for continente in continentes:\n",
    "    print(\"Estadisticas de consumo de vino para \", continente)\n",
    "    print(bebidas[bebidas[\"continent\"] == continente][\"wine_servings\"].describe())\n",
    "    print()"
   ]
  },
  {
   "cell_type": "markdown",
   "metadata": {},
   "source": [
    "### Paso 6. Imprime la media de consumo de alcohol por continente para cada columna"
   ]
  },
  {
   "cell_type": "code",
   "execution_count": 69,
   "metadata": {},
   "outputs": [
    {
     "name": "stdout",
     "output_type": "stream",
     "text": [
      "country\n",
      "beer_servings\n",
      "spirit_servings\n",
      "wine_servings\n",
      "total_litres_of_pure_alcohol\n",
      "continent\n"
     ]
    }
   ],
   "source": [
    "columnas = bebidas.columns\n",
    "for col in bebidas:\n",
    "    print(col)"
   ]
  },
  {
   "cell_type": "code",
   "execution_count": 84,
   "metadata": {},
   "outputs": [
    {
     "data": {
      "text/html": [
       "<div>\n",
       "<style scoped>\n",
       "    .dataframe tbody tr th:only-of-type {\n",
       "        vertical-align: middle;\n",
       "    }\n",
       "\n",
       "    .dataframe tbody tr th {\n",
       "        vertical-align: top;\n",
       "    }\n",
       "\n",
       "    .dataframe thead th {\n",
       "        text-align: right;\n",
       "    }\n",
       "</style>\n",
       "<table border=\"1\" class=\"dataframe\">\n",
       "  <thead>\n",
       "    <tr style=\"text-align: right;\">\n",
       "      <th></th>\n",
       "      <th>beer_servings</th>\n",
       "      <th>spirit_servings</th>\n",
       "      <th>wine_servings</th>\n",
       "      <th>total_litres_of_pure_alcohol</th>\n",
       "    </tr>\n",
       "    <tr>\n",
       "      <th>continent</th>\n",
       "      <th></th>\n",
       "      <th></th>\n",
       "      <th></th>\n",
       "      <th></th>\n",
       "    </tr>\n",
       "  </thead>\n",
       "  <tbody>\n",
       "    <tr>\n",
       "      <th>AF</th>\n",
       "      <td>61.471698</td>\n",
       "      <td>16.339623</td>\n",
       "      <td>16.264151</td>\n",
       "      <td>3.007547</td>\n",
       "    </tr>\n",
       "    <tr>\n",
       "      <th>AS</th>\n",
       "      <td>37.045455</td>\n",
       "      <td>60.840909</td>\n",
       "      <td>9.068182</td>\n",
       "      <td>2.170455</td>\n",
       "    </tr>\n",
       "    <tr>\n",
       "      <th>EU</th>\n",
       "      <td>193.777778</td>\n",
       "      <td>132.555556</td>\n",
       "      <td>142.222222</td>\n",
       "      <td>8.617778</td>\n",
       "    </tr>\n",
       "    <tr>\n",
       "      <th>OC</th>\n",
       "      <td>89.687500</td>\n",
       "      <td>58.437500</td>\n",
       "      <td>35.625000</td>\n",
       "      <td>3.381250</td>\n",
       "    </tr>\n",
       "    <tr>\n",
       "      <th>SA</th>\n",
       "      <td>175.083333</td>\n",
       "      <td>114.750000</td>\n",
       "      <td>62.416667</td>\n",
       "      <td>6.308333</td>\n",
       "    </tr>\n",
       "  </tbody>\n",
       "</table>\n",
       "</div>"
      ],
      "text/plain": [
       "           beer_servings  spirit_servings  wine_servings  \\\n",
       "continent                                                  \n",
       "AF             61.471698        16.339623      16.264151   \n",
       "AS             37.045455        60.840909       9.068182   \n",
       "EU            193.777778       132.555556     142.222222   \n",
       "OC             89.687500        58.437500      35.625000   \n",
       "SA            175.083333       114.750000      62.416667   \n",
       "\n",
       "           total_litres_of_pure_alcohol  \n",
       "continent                                \n",
       "AF                             3.007547  \n",
       "AS                             2.170455  \n",
       "EU                             8.617778  \n",
       "OC                             3.381250  \n",
       "SA                             6.308333  "
      ]
     },
     "execution_count": 84,
     "metadata": {},
     "output_type": "execute_result"
    }
   ],
   "source": [
    "bebidas.groupby(by=\"continent\").mean(\"beer_servings\")"
   ]
  },
  {
   "cell_type": "markdown",
   "metadata": {},
   "source": [
    "### Paso 7. Imprime la mediana de consumo de alcohol por continente para cada columna"
   ]
  },
  {
   "cell_type": "code",
   "execution_count": 86,
   "metadata": {},
   "outputs": [
    {
     "data": {
      "text/html": [
       "<div>\n",
       "<style scoped>\n",
       "    .dataframe tbody tr th:only-of-type {\n",
       "        vertical-align: middle;\n",
       "    }\n",
       "\n",
       "    .dataframe tbody tr th {\n",
       "        vertical-align: top;\n",
       "    }\n",
       "\n",
       "    .dataframe thead th {\n",
       "        text-align: right;\n",
       "    }\n",
       "</style>\n",
       "<table border=\"1\" class=\"dataframe\">\n",
       "  <thead>\n",
       "    <tr style=\"text-align: right;\">\n",
       "      <th></th>\n",
       "      <th>beer_servings</th>\n",
       "      <th>spirit_servings</th>\n",
       "      <th>wine_servings</th>\n",
       "      <th>total_litres_of_pure_alcohol</th>\n",
       "    </tr>\n",
       "    <tr>\n",
       "      <th>continent</th>\n",
       "      <th></th>\n",
       "      <th></th>\n",
       "      <th></th>\n",
       "      <th></th>\n",
       "    </tr>\n",
       "  </thead>\n",
       "  <tbody>\n",
       "    <tr>\n",
       "      <th>AF</th>\n",
       "      <td>32.0</td>\n",
       "      <td>3.0</td>\n",
       "      <td>2.0</td>\n",
       "      <td>2.30</td>\n",
       "    </tr>\n",
       "    <tr>\n",
       "      <th>AS</th>\n",
       "      <td>17.5</td>\n",
       "      <td>16.0</td>\n",
       "      <td>1.0</td>\n",
       "      <td>1.20</td>\n",
       "    </tr>\n",
       "    <tr>\n",
       "      <th>EU</th>\n",
       "      <td>219.0</td>\n",
       "      <td>122.0</td>\n",
       "      <td>128.0</td>\n",
       "      <td>10.00</td>\n",
       "    </tr>\n",
       "    <tr>\n",
       "      <th>OC</th>\n",
       "      <td>52.5</td>\n",
       "      <td>37.0</td>\n",
       "      <td>8.5</td>\n",
       "      <td>1.75</td>\n",
       "    </tr>\n",
       "    <tr>\n",
       "      <th>SA</th>\n",
       "      <td>162.5</td>\n",
       "      <td>108.5</td>\n",
       "      <td>12.0</td>\n",
       "      <td>6.85</td>\n",
       "    </tr>\n",
       "  </tbody>\n",
       "</table>\n",
       "</div>"
      ],
      "text/plain": [
       "           beer_servings  spirit_servings  wine_servings  \\\n",
       "continent                                                  \n",
       "AF                  32.0              3.0            2.0   \n",
       "AS                  17.5             16.0            1.0   \n",
       "EU                 219.0            122.0          128.0   \n",
       "OC                  52.5             37.0            8.5   \n",
       "SA                 162.5            108.5           12.0   \n",
       "\n",
       "           total_litres_of_pure_alcohol  \n",
       "continent                                \n",
       "AF                                 2.30  \n",
       "AS                                 1.20  \n",
       "EU                                10.00  \n",
       "OC                                 1.75  \n",
       "SA                                 6.85  "
      ]
     },
     "execution_count": 86,
     "metadata": {},
     "output_type": "execute_result"
    }
   ],
   "source": [
    "bebidas.groupby(by=\"continent\").median(\"beer_servings\")"
   ]
  },
  {
   "cell_type": "markdown",
   "metadata": {},
   "source": [
    "### Paso 8. Imprima los valores medio, mínimo y máximo de consumo de alcohol por continente."
   ]
  },
  {
   "cell_type": "code",
   "execution_count": 92,
   "metadata": {},
   "outputs": [
    {
     "name": "stdout",
     "output_type": "stream",
     "text": [
      "Estadisticas de consumo de vino para  AS\n",
      "Máximo consumo de cerveza: 247\n",
      "Mínimo consumo de cerveza: 0\n",
      "Consumo medio de cerveza: 37.05\n",
      "Máximo consumo de espirituosas: 326\n",
      "Mínimo consumo de espirituosas: 0\n",
      "Consumo medio de espirituosas: 60.84\n",
      "Máximo consumo de vino: 123\n",
      "Mínimo consumo de vino: 0\n",
      "Consumo medio de vino: 9.07\n",
      "\n",
      "Estadisticas de consumo de vino para  EU\n",
      "Máximo consumo de cerveza: 361\n",
      "Mínimo consumo de cerveza: 0\n",
      "Consumo medio de cerveza: 193.78\n",
      "Máximo consumo de espirituosas: 373\n",
      "Mínimo consumo de espirituosas: 0\n",
      "Consumo medio de espirituosas: 132.56\n",
      "Máximo consumo de vino: 370\n",
      "Mínimo consumo de vino: 0\n",
      "Consumo medio de vino: 142.22\n",
      "\n",
      "Estadisticas de consumo de vino para  AF\n",
      "Máximo consumo de cerveza: 376\n",
      "Mínimo consumo de cerveza: 0\n",
      "Consumo medio de cerveza: 61.47\n",
      "Máximo consumo de espirituosas: 152\n",
      "Mínimo consumo de espirituosas: 0\n",
      "Consumo medio de espirituosas: 16.34\n",
      "Máximo consumo de vino: 233\n",
      "Mínimo consumo de vino: 0\n",
      "Consumo medio de vino: 16.26\n",
      "\n",
      "Estadisticas de consumo de vino para  nan\n",
      "Máximo consumo de cerveza: nan\n",
      "Mínimo consumo de cerveza: nan\n",
      "Consumo medio de cerveza: nan\n",
      "Máximo consumo de espirituosas: nan\n",
      "Mínimo consumo de espirituosas: nan\n",
      "Consumo medio de espirituosas: nan\n",
      "Máximo consumo de vino: nan\n",
      "Mínimo consumo de vino: nan\n",
      "Consumo medio de vino: nan\n",
      "\n",
      "Estadisticas de consumo de vino para  SA\n",
      "Máximo consumo de cerveza: 333\n",
      "Mínimo consumo de cerveza: 93\n",
      "Consumo medio de cerveza: 175.08\n",
      "Máximo consumo de espirituosas: 302\n",
      "Mínimo consumo de espirituosas: 25\n",
      "Consumo medio de espirituosas: 114.75\n",
      "Máximo consumo de vino: 221\n",
      "Mínimo consumo de vino: 1\n",
      "Consumo medio de vino: 62.42\n",
      "\n",
      "Estadisticas de consumo de vino para  OC\n",
      "Máximo consumo de cerveza: 306\n",
      "Mínimo consumo de cerveza: 0\n",
      "Consumo medio de cerveza: 89.69\n",
      "Máximo consumo de espirituosas: 254\n",
      "Mínimo consumo de espirituosas: 0\n",
      "Consumo medio de espirituosas: 58.44\n",
      "Máximo consumo de vino: 212\n",
      "Mínimo consumo de vino: 0\n",
      "Consumo medio de vino: 35.62\n",
      "\n"
     ]
    }
   ],
   "source": [
    "for continente in continentes:\n",
    "    print(\"Estadisticas de consumo de vino para \", continente)\n",
    "    pdCont = bebidas[bebidas[\"continent\"] == continente]\n",
    "    print(\"Máximo consumo de cerveza:\", pdCont[\"beer_servings\"].max())\n",
    "    print(\"Mínimo consumo de cerveza:\", pdCont[\"beer_servings\"].min())\n",
    "    print(\"Consumo medio de cerveza:\", round(pdCont[\"beer_servings\"].mean(),2))\n",
    "\n",
    "    print(\"Máximo consumo de espirituosas:\", pdCont[\"spirit_servings\"].max())\n",
    "    print(\"Mínimo consumo de espirituosas:\", pdCont[\"spirit_servings\"].min())\n",
    "    print(\"Consumo medio de espirituosas:\", round(pdCont[\"spirit_servings\"].mean(),2))\n",
    "\n",
    "    print(\"Máximo consumo de vino:\", pdCont[\"wine_servings\"].max())\n",
    "    print(\"Mínimo consumo de vino:\", pdCont[\"wine_servings\"].min())\n",
    "    print(\"Consumo medio de vino:\", round(pdCont[\"wine_servings\"].mean(),2))\n",
    "    print()"
   ]
  }
 ],
 "metadata": {
  "interpreter": {
   "hash": "7c77fdb427e7cbc9bc1367dd530fc2b36aacdbbde1ac83c85833b10dfa8b831c"
  },
  "kernelspec": {
   "display_name": "Python 3.7.4 64-bit",
   "name": "python3"
  },
  "language_info": {
   "codemirror_mode": {
    "name": "ipython",
    "version": 3
   },
   "file_extension": ".py",
   "mimetype": "text/x-python",
   "name": "python",
   "nbconvert_exporter": "python",
   "pygments_lexer": "ipython3",
   "version": "3.11.5"
  }
 },
 "nbformat": 4,
 "nbformat_minor": 4
}
