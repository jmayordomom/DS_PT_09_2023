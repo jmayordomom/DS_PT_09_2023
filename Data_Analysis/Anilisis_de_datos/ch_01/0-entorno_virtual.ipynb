{
 "cells": [
  {
   "cell_type": "markdown",
   "metadata": {},
   "source": [
    "# Entorno Virtual"
   ]
  },
  {
   "cell_type": "markdown",
   "metadata": {},
   "source": [
    "La mayoría de las veces, cuando queremos instalar software en nuestro ordenador, simplemente lo descargamos, pero la naturaleza de los lenguajes de programación, en los que los paquetes se actualizan constantemente y dependen de versiones específicas de otros, hace que esto pueda causar problemas. Podríamos estar trabajando en un proyecto un día en el que necesitamos una determinada versión de un paquete de Python (digamos 0.9.1), pero al día siguiente estar trabajando en un análisis en el que necesitamos la versión más reciente de ese mismo paquete para acceder a alguna funcionalidad más reciente (1.1.0). Parece que no habría ningún problema, ¿verdad? Pues bien, ¿qué ocurre si esta actualización provoca un cambio de última hora en el primer proyecto o en otro paquete de nuestro proyecto que dependa de éste? Este es un problema tan común que ya existe una solución para evitarlo: los entornos virtuales.\n",
    "\n",
    "\n",
    "Un entorno virtual nos permite crear entornos separados para cada uno de nuestros proyectos. Cada uno de nuestros entornos sólo tendrá instalados los paquetes que necesite. Esto facilita compartir nuestro entorno con otros, tener varias versiones del mismo paquete instaladas en nuestra máquina para distintos proyectos sin que interfieran entre sí, y evitar efectos secundarios inesperados por instalar paquetes que se actualizan o tienen dependencias con otros. Es una buena práctica crear un entorno virtual dedicado para cualquier proyecto en el que trabajemos.\n",
    "\n",
    "Vamos a discutir dos formas comunes de lograr esta configuración, y usted puede decidir cuál se adapta mejor. Ten en cuenta que todo el código de esta sección se ejecutará en la línea de comandos."
   ]
  },
  {
   "cell_type": "markdown",
   "metadata": {},
   "source": [
    "## venv\n",
    "\n",
    "Python 3 viene con el módulo venv, que creará un entorno virtual en la ubicación que elijamos. El proceso de configuración y uso de un entorno de desarrollo es el siguiente (una vez instalado Python):\n",
    "\n",
    "1. Crear una carpeta para el proyecto.\n",
    "2. Utiliza venv para crear un entorno en esta carpeta.\n",
    "3. Active el entorno.\n",
    "4. Instala los paquetes de Python en el entorno con pip.\n",
    "5. Desactiva el entorno cuando hayas terminado.\n",
    "\n",
    "En la práctica, crearemos entornos para cada proyecto en el que trabajemos, por lo que nuestro primer paso será crear un directorio para todos los archivos de nuestro proyecto. Para ello, podemos utilizar el comando mkdir. Una vez creado éste, cambiaremos nuestro directorio actual por el recién creado utilizando el comando cd. Dado que ya hemos obtenido los archivos del proyecto (de las instrucciones en la sección de materiales del capítulo), lo siguiente es sólo para referencia. Para crear un nuevo directorio y movernos a ese directorio, podemos utilizar el siguiente comando:\n",
    "\n",
    "Antes de seguir adelante, utilice cd para navegar hasta el directorio que contiene el repositorio de este libro. Tenga en cuenta que la ruta dependerá de dónde se clonó/descargó:\n",
    "\n",
    "Dado que existen ligeras diferencias en los sistemas operativos para los pasos restantes, repasaremos Windows y Linux/macOS por separado. Ten en cuenta que si tienes Python 2 y Python 3, asegúrate de usar python3 y no python en los siguientes comandos\n",
    "\n"
   ]
  },
  {
   "cell_type": "markdown",
   "metadata": {},
   "source": [
    "## Windows\n",
    "\n",
    "Para crear nuestro entorno para este modulo, utilizaremos el módulo venv de la biblioteca estándar. Tenga en cuenta que debemos proporcionar un nombre para nuestro entorno (.venv). Recuerda, si tu configuración de Windows tiene python asociado con Python 3, entonces usa python en lugar de python3 en el siguiente comando:\n",
    "\n",
    "> C:\\...> python -m venv .venv\n",
    "\n",
    "Ahora, tenemos una carpeta para nuestro entorno virtual llamada data_analisis dentro de la carpeta del repositorio que clonamos/descargamos anteriormente. Para poder utilizar el entorno, necesitamos activarlo:\n",
    "\n",
    "si usamos CDM:\n",
    "\n",
    "> C:> %cd%\\.venv\\Scripts\\activate.bat\n",
    "\n",
    "si utilizamos PS:\n",
    "\n",
    "1. Abrir una consolola PS con permisos de administrador\n",
    "\n",
    "2. Pegar el siguiente codigo\n",
    "\n",
    "    > Set-ExecutionPolicy -Scope LocalMachine -ExecutionPolicy RemoteSigned\n",
    "\n",
    "3. En la terminal de VSCode\n",
    "\n",
    "> C:> %cd%\\.venv\\Scripts\\Activate\n",
    "\n",
    "Tenga en cuenta que después de activar el entorno virtual, podemos ver (data_analisis) delante de nuestro símbolo del sistema en la línea de comandos; esto nos permite saber que estamos en el medio ambiente:\n",
    "\n",
    "> (.venv) C:\\\\...>\n",
    "\n",
    "Cuando hayamos terminado de utilizar el entorno, simplemente lo desactivamos:\n",
    "\n",
    "> (.venv) C:\\...> deactivate\n",
    "\n",
    "Los paquetes instalados en el entorno no existen fuera de él. Observe que ya no tenemos (.venv) delante de nuestro prompt en la línea de comandos.\n",
    "línea de comandos. Puedes leer más sobre venv en la documentación de Python en https://docs. python.org/3/library/venv.html."
   ]
  },
  {
   "cell_type": "markdown",
   "metadata": {},
   "source": [
    "## Linux/macOS\n",
    "\n",
    "Para crear nuestro entorno para este modulo, utilizaremos el módulo venv de la biblioteca estándar. Tenga en cuenta que debemos proporcionar un nombre para nuestro entorno (.venv):\n",
    "\n",
    "> $ python3 -m venv .venv\n",
    "\n",
    "Ahora, tenemos una carpeta para nuestro entorno virtual llamada data_analisis dentro de la carpeta del repositorio que clonamos/descargamos anteriormente. Para poder utilizar el entorno, necesitamos activarlo:\n",
    "\n",
    "> $ source .venv/bin/activate\n",
    "\n",
    "Observa que después de activar el entorno virtual, podemos ver (.venv) delante de nuestro prompt en la línea de comandos; esto nos permite saber que estamos en el entorno:\n",
    "\n",
    "> (.venv) $\n",
    "\n",
    "Cuando hayamos terminado de utilizar el entorno, simplemente lo desactivamos:\n",
    "\n",
    "> (.venv) $ desactivar\n",
    "\n",
    "Los paquetes instalados en el entorno no existen fuera de él. Observe que ya no tenemos (.venv) delante de nuestro prompt en la línea de comandos. Puedes leer más sobre venv en la documentación de Python en https://docs. python.org/3/library/venv.html."
   ]
  },
  {
   "cell_type": "code",
   "execution_count": 2,
   "metadata": {},
   "outputs": [
    {
     "name": "stdout",
     "output_type": "stream",
     "text": [
      "Package           Version\n",
      "----------------- -------\n",
      "asttokens         2.4.0\n",
      "backcall          0.2.0\n",
      "colorama          0.4.6\n",
      "comm              0.1.4\n",
      "debugpy           1.8.0\n",
      "decorator         5.1.1\n",
      "executing         2.0.0\n",
      "ipykernel         6.26.0\n",
      "ipython           8.16.1\n",
      "jedi              0.19.1\n",
      "jupyter_client    8.5.0\n",
      "jupyter_core      5.4.0\n",
      "matplotlib-inline 0.1.6\n",
      "nest-asyncio      1.5.8\n",
      "packaging         23.2\n",
      "parso             0.8.3\n",
      "pickleshare       0.7.5\n",
      "pip               23.3.1\n",
      "platformdirs      3.11.0\n",
      "prompt-toolkit    3.0.39\n",
      "psutil            5.9.6\n",
      "pure-eval         0.2.2\n",
      "Pygments          2.16.1\n",
      "python-dateutil   2.8.2\n",
      "pywin32           306\n",
      "pyzmq             25.1.1\n",
      "setuptools        65.5.0\n",
      "six               1.16.0\n",
      "stack-data        0.6.3\n",
      "tornado           6.3.3\n",
      "traitlets         5.12.0\n",
      "wcwidth           0.2.8\n"
     ]
    }
   ],
   "source": [
    "!pip list"
   ]
  }
 ],
 "metadata": {
  "kernelspec": {
   "display_name": "Python 3",
   "language": "python",
   "name": "python3"
  },
  "language_info": {
   "codemirror_mode": {
    "name": "ipython",
    "version": 3
   },
   "file_extension": ".py",
   "mimetype": "text/x-python",
   "name": "python",
   "nbconvert_exporter": "python",
   "pygments_lexer": "ipython3",
   "version": "3.11.5"
  }
 },
 "nbformat": 4,
 "nbformat_minor": 2
}
