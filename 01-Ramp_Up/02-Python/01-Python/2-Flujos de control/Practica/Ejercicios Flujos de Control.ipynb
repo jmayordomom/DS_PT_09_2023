{
 "cells": [
  {
   "cell_type": "markdown",
   "metadata": {},
   "source": [
    "![imagen](./img/ejercicios.png)"
   ]
  },
  {
   "cell_type": "markdown",
   "metadata": {},
   "source": [
    "# Ejercicios Flujos de control"
   ]
  },
  {
   "cell_type": "markdown",
   "metadata": {},
   "source": [
    "## Ejercicio 1\n",
    "Declara una variable numérica que será una hora cualquiera del día. Implementa mediante sentencias `if/elif/else` la siguiente casuística:\n",
    "\n",
    "* Si es entre las 0 y las 8, print \"Durmiendo\"\n",
    "* Si es entre las 9 y las 18, print \"Trabajando\"\n",
    "* Si es entre las 19 y las 21, print \"Clase\"\n",
    "* Si es entre las 22 y las 24, print \"Descanso\"\n",
    "* En cualquier otro caso, print \"Transporte o error\""
   ]
  },
  {
   "cell_type": "code",
   "execution_count": 11,
   "metadata": {},
   "outputs": [
    {
     "name": "stdout",
     "output_type": "stream",
     "text": [
      "Durmiendo\n"
     ]
    }
   ],
   "source": [
    "hora = 2\n",
    "\n",
    "if hora < 0 or hora > 24:\n",
    "    print(\"Transporte o error\")\n",
    "elif hora <= 8:\n",
    "    print(\"Durmiendo\")\n",
    "elif hora <= 18:\n",
    "    print(\"Trabajando\")\n",
    "elif hora <= 21:\n",
    "    print(\"Clase\")\n",
    "elif hora <= 24:\n",
    "    print(\"Descanso\")"
   ]
  },
  {
   "cell_type": "code",
   "execution_count": 2,
   "metadata": {},
   "outputs": [
    {
     "name": "stdout",
     "output_type": "stream",
     "text": [
      "Durmiendo\n"
     ]
    }
   ],
   "source": [
    "hora = 10\n",
    "\n",
    "if hora >= 22 and hora <= 24:\n",
    "    print(\"Durmiendo\")\n",
    "elif hora >= 19 or hora <= 21:\n",
    "    print(\"Trabajando\")\n",
    "elif hora >= 9 or hora <= 18:\n",
    "    print(\"Clase\")\n",
    "elif hora >= 0 or hora <= 8:\n",
    "    print(\"Descando\")\n",
    "else:\n",
    "    print(\"Transporte o error\")"
   ]
  },
  {
   "cell_type": "markdown",
   "metadata": {},
   "source": [
    "## Ejercicio 2\n",
    "En este ejercicio vamos a implementar un calculador de precios de casas muy sencillo. Tenemos las siguientes variables:\n",
    "\n",
    "> superficie\n",
    ">\n",
    "> distrito\n",
    "\n",
    "Implementa mediante sentencias `if/elif/else` la siguiente casuística:\n",
    "\n",
    "1. Si el distrito es \"Moncloa\" o \"Centro\", y además la superficie es superior a 100 metros cuadrados, el precio de la casa es de 1000\n",
    "2. Si el distrito es \"Salamanca\", y además la superficie de la casa es al menos de 150 metros, el precio de la casa es de 1500\n",
    "3. Si el distrito no es \"Retiro\" y la superficie está entre 60 y 80 metros, el precio es de 600\n",
    "4. En cualquier otro caso, el precio será de 0"
   ]
  },
  {
   "cell_type": "code",
   "execution_count": 16,
   "metadata": {},
   "outputs": [
    {
     "name": "stdout",
     "output_type": "stream",
     "text": [
      "El precio es de  0\n"
     ]
    }
   ],
   "source": [
    "superficie = 8\n",
    "distrito = \"Salamanca\"\n",
    "precio = 0\n",
    "\n",
    "if (distrito == \"Moncloa\" or distrito == \"Centro\") and superficie > 100:\n",
    "    precio = 1000\n",
    "elif distrito == \"Salamanca\" and superficie >= 150:\n",
    "    precio = 1500\n",
    "elif distrito != \"Retiro\" and (superficie >= 60 and superficie <= 80): #60 <= superficie <= 80\n",
    "    precio = 600\n",
    "\n",
    "print(\"El precio es de \", precio)"
   ]
  },
  {
   "cell_type": "markdown",
   "metadata": {},
   "source": [
    "## Ejercicio 3\n",
    "En este ejercicio vamos a realizar un programa muy parecido. Para este caso queremos que se cumplan las siguientes condiciones:\n",
    "\n",
    "1. Primero se compruebe si el distrito es \"Retiro\". Si es asi, que imprima \"Distrito Retiro\", y si no, \"Otro distrito\"\n",
    "2. Si el distrito es \"Retiro\", comprueba si si la superficie es mayor de 100 metros cuadrados. En tal caso, que imprima un precio de 1000, y si no, de 500.\n",
    "\n",
    "Hay que usar `ifs` anidados"
   ]
  },
  {
   "cell_type": "code",
   "execution_count": 19,
   "metadata": {},
   "outputs": [
    {
     "name": "stdout",
     "output_type": "stream",
     "text": [
      "Distrito Retiro\n",
      "Precio: 1000\n"
     ]
    }
   ],
   "source": [
    "superficie = 800\n",
    "distrito = \"Retiro\"\n",
    "precio = 0\n",
    "\n",
    "if (distrito == \"Retiro\"):\n",
    "    print(\"Distrito Retiro\")\n",
    "    if superficie > 100:\n",
    "        print(\"Precio: 1000\")\n",
    "    else:\n",
    "        print(\"Precio:500\")\n",
    "else:\n",
    "    print(\"Otro distrito\")"
   ]
  },
  {
   "cell_type": "markdown",
   "metadata": {},
   "source": [
    "## Ejercicio 4\n",
    "Escribe un programa que tenga dos variables: un numero, y una lista numérica. El programa debe recorrer la lista e imprimir por pantalla cada elemento de la lista multiplicado por el número"
   ]
  },
  {
   "cell_type": "code",
   "execution_count": 20,
   "metadata": {},
   "outputs": [
    {
     "name": "stdout",
     "output_type": "stream",
     "text": [
      "3\n",
      "6\n",
      "9\n"
     ]
    }
   ],
   "source": [
    "numero = 3\n",
    "lista = [1,2,3]\n",
    "\n",
    "for num in lista:\n",
    "    print(num*numero)"
   ]
  },
  {
   "cell_type": "markdown",
   "metadata": {},
   "source": [
    "## Ejercicio 5\n",
    "Imprime por pantalla cada número del -10 al -1. En ese orden. Consulta [la documentación](https://www.w3schools.com/python/ref_func_range.asp) de `range`"
   ]
  },
  {
   "cell_type": "code",
   "execution_count": 24,
   "metadata": {},
   "outputs": [
    {
     "name": "stdout",
     "output_type": "stream",
     "text": [
      "-10\n",
      "-9\n",
      "-8\n",
      "-7\n",
      "-6\n",
      "-5\n",
      "-4\n",
      "-3\n",
      "-2\n",
      "-1\n"
     ]
    }
   ],
   "source": [
    "for i in range(-10, 0):\n",
    "    print(i)"
   ]
  },
  {
   "cell_type": "markdown",
   "metadata": {},
   "source": [
    "## Ejercicio 6\n",
    "Dada la siguiente lista:\n",
    "\n",
    "> list1 = [12, 15, 32, 42, 55, 75, 122, 132, 150, 180, 200]\n",
    "\n",
    "Implementa un programa que los recorra e imprima por pantalla todos los divisibles por 5. Si nos encontramos con alguno que sea mayor que 150, detener el bucle."
   ]
  },
  {
   "cell_type": "code",
   "execution_count": 40,
   "metadata": {},
   "outputs": [
    {
     "name": "stdout",
     "output_type": "stream",
     "text": [
      "15 es múltiplo de 5\n",
      "55 es múltiplo de 5\n",
      "75 es múltiplo de 5\n",
      "150 es múltiplo de 5\n",
      "Mayor que 150: 180\n"
     ]
    }
   ],
   "source": [
    "list1 = [12, 15, 32, 42, 55, 75, 122, 132, 150, 180, 200]\n",
    "\n",
    "for numero in list1:\n",
    "    if numero > 150:\n",
    "        print(\"Mayor que 150:\", numero)\n",
    "        break\n",
    "    elif numero % 5 == 0:\n",
    "        print(numero, \"es múltiplo de 5\")"
   ]
  },
  {
   "cell_type": "markdown",
   "metadata": {},
   "source": [
    "## Ejercicio 7\n",
    "Escribe un programa en Python que imprima por pantalla todos los números divisibles por 5 y divisibles por 7, dentro del rango de valores (150, 350)"
   ]
  },
  {
   "cell_type": "code",
   "execution_count": 41,
   "metadata": {},
   "outputs": [
    {
     "name": "stdout",
     "output_type": "stream",
     "text": [
      "175 es múltiplo de 5 y 7\n",
      "210 es múltiplo de 5 y 7\n",
      "245 es múltiplo de 5 y 7\n",
      "280 es múltiplo de 5 y 7\n",
      "315 es múltiplo de 5 y 7\n",
      "350 es múltiplo de 5 y 7\n"
     ]
    }
   ],
   "source": [
    "for numero in range(150, 351):\n",
    "    # if numero % 5 == 0:\n",
    "    #     print(numero, \"es múltiplo de 5\")\n",
    "    \n",
    "    # if numero % 7 == 0:\n",
    "    #     print(numero, \"es múltiplo de 7\")\n",
    "    \n",
    "    if numero % 5 == 0 and numero % 7 == 0:\n",
    "        print(numero, \"es múltiplo de 5 y 7\")"
   ]
  },
  {
   "cell_type": "markdown",
   "metadata": {},
   "source": [
    "## Ejercicio 8\n",
    "Implementa un programa que imprima por pantalla el siguiente patrón\n",
    "\n",
    "5 4 3 2 1 \n",
    "\n",
    "4 3 2 1 \n",
    "\n",
    "3 2 1 \n",
    "\n",
    "2 1 \n",
    "\n",
    "1\n",
    "\n",
    "NOTA: NO hay lineas en blanco entre una línea y otra."
   ]
  },
  {
   "cell_type": "code",
   "execution_count": 44,
   "metadata": {},
   "outputs": [
    {
     "name": "stdout",
     "output_type": "stream",
     "text": [
      "5 4 3 2 1\n",
      "4 3 2 1\n",
      "3 2 1\n",
      "2 1\n",
      "1\n"
     ]
    }
   ],
   "source": [
    "lista = [5,4,3,2,1]\n",
    "\n",
    "while len(lista) != 0:\n",
    "    print(*lista)\n",
    "    lista.pop(0)"
   ]
  },
  {
   "cell_type": "markdown",
   "metadata": {},
   "source": [
    "## Ejercicio 9\n",
    "En este ejercicio vamos a crear un pequeño juego. Se trata de intentar adivinar un numero del 1 al 5. Tenemos dos intentos para acertar. Pasos a seguir:\n",
    "\n",
    "1. Ya viene implementado cómo obtener un número aleatorio del 1 al 5\n",
    "2. Tendrás que declarar en una variable el numero de vidas, y mediante un bucle while, comprobar que todavia quedan vidas.\n",
    "3. Dentro del bucle, obtener el valor del usuario y comprobar si es ese el numero a adivinar. Si no, actualizar las vidas.\n",
    "4. Si acertamos, salimos del bucle e imprimimos por pantalla \"You win\". Y si perdemos también salimos del bucle, pero en este caso imprimimos por pantalla \"You lose\".\n",
    "\n",
    "TIP: te puede resultar útil usar la sentencia `else` cuando acabe el bucle `while`. Lo que haya dentro de ese `else` se ejecutará una vez acabe la ejecución del `while`. Lo podrás usar para cuando pierdas."
   ]
  },
  {
   "cell_type": "code",
   "execution_count": 38,
   "metadata": {},
   "outputs": [
    {
     "name": "stdout",
     "output_type": "stream",
     "text": [
      "2\n",
      "Enhorabuena!! 2 es igual a 2\n"
     ]
    }
   ],
   "source": [
    "import random\n",
    "numero = random.randint(1, 5)\n",
    "vidas = 2\n",
    "\n",
    "while vidas != 0:\n",
    "    intento = int(input(\"Introduce el numero del 1 al 5\"))\n",
    "    if intento == numero:\n",
    "        print(f\"Enhorabuena!! {numero} es igual a {intento}\")\n",
    "        break\n",
    "    else:\n",
    "        print(\"Error!!\")\n",
    "        vidas -=1\n",
    "\n",
    "if vidas == 0:\n",
    "    print(\"No lo has conseguido\")"
   ]
  }
 ],
 "metadata": {
  "kernelspec": {
   "display_name": "Python 3",
   "language": "python",
   "name": "python3"
  },
  "language_info": {
   "codemirror_mode": {
    "name": "ipython",
    "version": 3
   },
   "file_extension": ".py",
   "mimetype": "text/x-python",
   "name": "python",
   "nbconvert_exporter": "python",
   "pygments_lexer": "ipython3",
   "version": "3.11.5"
  }
 },
 "nbformat": 4,
 "nbformat_minor": 4
}
